{
 "cells": [
  {
   "cell_type": "code",
   "execution_count": 1,
   "metadata": {
    "collapsed": true
   },
   "outputs": [],
   "source": [
    "import numpy as np\n",
    "from collections import defaultdict, Counter\n",
    "\n",
    "class MarkovModel:\n",
    "    \n",
    "    def __init__(self, text, k):\n",
    "        '''\n",
    "        create a markov model of order k from griven text\n",
    "        assume that text has length at least k\n",
    "        '''\n",
    "        self.k = k\n",
    "        self.transition_count = defaultdict(float) # number of times each char follows each kgram\n",
    "        self.alphabet = list(set(list(text)))      # alphabet taken from the text\n",
    "        self.char_counts = Counter(text)           # number of times each char appears in the text\n",
    "        self.kgrams = defaultdict(int)             # number of times each kgram appears in the text\n",
    "        self.n = len(text)                         # length of the text\n",
    "        text += text[:k]                           # wrap the text (i.e. make it 'circular')\n",
    "        for i in range(self.n):\n",
    "            self.transition_count[text[i:i + k], text[i + k]] += 1\n",
    "            self.kgrams[text[i:i + k]] += 1\n",
    "    \n",
    "    def order(self):\n",
    "        '''\n",
    "        order k of Markow model\n",
    "        '''\n",
    "        return self.k\n",
    "    \n",
    "    def freq(self, kgram):\n",
    "        '''\n",
    "        number of occurences of kgram in text\n",
    "        ''' \n",
    "        assert len(kgram) == self.k, \"length, {}, of given kgram does not match the order, {}, of this Markov model.\".format(len(kgram), self.k)\n",
    "        return self.kgrams[kgram]\n",
    "    \n",
    "    def freq2(self, kgram, c):\n",
    "        '''\n",
    "        number of times that character c follows kgram\n",
    "        '''\n",
    "        assert len(kgram) == self.k, \"length, {}, of given kgram does not match the order, {}, of this Markov model.\".format(len(kgram), self.k)\n",
    "        return self.transition_count[kgram, c]\n",
    "        \n",
    "    def prob(self, kgram, c):\n",
    "        '''\n",
    "        probability that character c follows kgram\n",
    "        '''\n",
    "        assert len(kgram) == self.k, \"length, {}, of given kgram does not match the order, {}, of this Markov model.\".format(len(kgram), self.k)\n",
    "        N = sum([self.transition_count[kgram, letter] for letter in self.alphabet])\n",
    "        if N == 0:\n",
    "            # there are no instances of the string kgram in the text\n",
    "            # therefore use the distribution of chars in the text to return \n",
    "            # a probability\n",
    "            return self.char_counts[c]/self.n\n",
    "        else:\n",
    "            # use the distribution given by existing transitions\n",
    "            return self.transition_count[kgram, c]/N\n",
    "    \n",
    "    def rand(self, kgram):\n",
    "        '''\n",
    "        random character following given kgram\n",
    "        '''\n",
    "        assert len(kgram) == self.k, \"length, {}, of given kgram does not match the order, {}, of this Markov model.\".format(len(kgram), self.k)\n",
    "        return np.random.choice(self.alphabet, 1, p=np.array([self.prob(kgram, letter) for letter in self.alphabet]))[0]\n",
    "    \n",
    "    def gen(self, kgram, T):\n",
    "        '''\n",
    "        generate a string of length T characters using kgram as a seed\n",
    "        '''\n",
    "        assert len(kgram) == self.k, \"length, {}, of given kgram does not match the order, {}, of this Markov model.\".format(len(kgram), self.k)\n",
    "        \n",
    "        string = ''\n",
    "        for _ in range(T):\n",
    "            # generate a random letter to follow kgram\n",
    "            c = self.rand(kgram)\n",
    "            \n",
    "            # slide the window\n",
    "            kgram = kgram[1:] + c\n",
    "            \n",
    "            # add c to the string generated so far\n",
    "            string += c\n",
    "            \n",
    "        return string\n",
    "\n",
    "    def most_likely(self, context):\n",
    "        '''\n",
    "        return the most likely letter, given the surrounding letters in context\n",
    "        '''\n",
    "        assert len(context) == 2 * self.k + 1, \"the length of the context is invalid, context should have length {}\".format(2 * self.k + 1)\n",
    "        \n",
    "        most_likely_char = self.alphabet[0]\n",
    "        \n",
    "        log_likelihood = defaultdict(float)\n",
    "        for c in self.alphabet:\n",
    "            # replace the corrupted char with c\n",
    "            test_context = context[:self.k] + c + context[self.k + 1:]\n",
    "            \n",
    "            # compute the log-likelihood of each window given c as the replacement char\n",
    "            # NOTE: we take log(P + 0.01) instead of log(P) to avoid\n",
    "            #       trouble with dividing by 0\n",
    "            probs = [np.log(self.prob(test_context[i:i + self.k], test_context[i + self.k]) + 0.01) for i in range(self.k)]\n",
    "            \n",
    "            # store the log-likelihood for c\n",
    "            log_likelihood[c] = sum(probs)\n",
    "            \n",
    "            # compare this log-likelihood with the log-likelihood of the current argmax\n",
    "            if log_likelihood[c] > log_likelihood[most_likely_char]:\n",
    "                most_likely_char = c\n",
    "                \n",
    "        return most_likely_char\n",
    "    \n",
    "    def replace_unknown(self, corrupted):\n",
    "        '''\n",
    "        replace unknown characters with most probable characters\n",
    "        '''\n",
    "        corrected = corrupted\n",
    "        unknown_idx = corrupted.find('~')\n",
    "        while unknown_idx > -1:\n",
    "            corrected = corrected[:unknown_idx] + self.most_likely(corrected[unknown_idx - self.k: unknown_idx + self.k + 1]) + corrected[unknown_idx + 1:]\n",
    "            unknown_idx = corrupted.find('~', unknown_idx + 1)\n",
    "        return corrected"
   ]
  },
  {
   "cell_type": "markdown",
   "metadata": {},
   "source": [
    "---"
   ]
  },
  {
   "cell_type": "code",
   "execution_count": 2,
   "metadata": {
    "collapsed": true
   },
   "outputs": [],
   "source": [
    "m = MarkovModel('gagggagaggcgagaaa', 3)"
   ]
  },
  {
   "cell_type": "code",
   "execution_count": 3,
   "metadata": {},
   "outputs": [
    {
     "data": {
      "text/plain": [
       "'gcgagaggc'"
      ]
     },
     "execution_count": 3,
     "metadata": {},
     "output_type": "execute_result"
    }
   ],
   "source": [
    "m.gen('gag', 9)"
   ]
  },
  {
   "cell_type": "code",
   "execution_count": 4,
   "metadata": {},
   "outputs": [
    {
     "data": {
      "text/plain": [
       "0.0"
      ]
     },
     "execution_count": 4,
     "metadata": {},
     "output_type": "execute_result"
    }
   ],
   "source": [
    "m.prob('gag', 'c')"
   ]
  },
  {
   "cell_type": "code",
   "execution_count": 5,
   "metadata": {},
   "outputs": [
    {
     "data": {
      "text/plain": [
       "'c'"
      ]
     },
     "execution_count": 5,
     "metadata": {},
     "output_type": "execute_result"
    }
   ],
   "source": [
    "m.most_likely('agg~gag')"
   ]
  },
  {
   "cell_type": "markdown",
   "metadata": {},
   "source": [
    "---"
   ]
  },
  {
   "cell_type": "code",
   "execution_count": 6,
   "metadata": {
    "collapsed": true
   },
   "outputs": [],
   "source": [
    "text = '''Microsoft said Tuesday the company would comply with a preliminary ruling by Federal District Court Judge Ronald H. Whyte that Microsoft is no longer able to use the Java Compatibility Logo on its packaging and websites for Internet Explorer and Software Developers Kit for Java. \n",
    "\n",
    "“We remain confident that once all the facts are presented in the larger case, the court will find Microsoft to be in full compliance with its contract with Sun,” stated Tom Burt, Associate General Counsel for Microsoft Corporation. “We are disappointed with this decision, but we will immediately comply with the Court’s order.” \n",
    "\n",
    "Microsoft has been in the forefront of helping developers use the Java programming language to write cutting-edge applications. The company has committed significant resources so that Java developers have the option of taking advantage of Windows features when writing software using the Java language. Providing the best tools and programming options will continue to be Microsoft’s goal. \n",
    "\n",
    "“We will continue to listen to our customers and provide them the tools they need to write great software using the Java language,” added Tod Nielsen, General Manager for Microsoft’s Developer Relations Group/Platform Marketing.'''"
   ]
  },
  {
   "cell_type": "code",
   "execution_count": 7,
   "metadata": {},
   "outputs": [
    {
     "name": "stdout",
     "output_type": "stream",
     "text": [
      "Microsoft said Tuesday the company would comply with this decision, but we will continue to listen to our customers and provide them the tools and provide them the tools and programming language,” added Tod Nielsen, General Counsel for Microsoft’s Developers have the option of taking advantage of Windows features when writing software using the Java programming options will continue to be Microsoft said Tuesday the court will find Microsoft is no longer able to use the Java programming option of taking advantage of Windows features when writing software using the Java language,” added Tod Nielsen, General Counsel for Microsoft said Tuesday the court will find Microsoft to be Microsoft’s goal. \n",
      "\n",
      "“We remain confident that once all the facts are presented in the larger case, the company would comply with the Court’s order.” \n",
      "\n",
      "Microsoft Corporation. “We are disappointed with this decision, but we will immediately comply with the Court’s order.” \n",
      "\n",
      "Microsoft said Tuesday the court will find Microso\n"
     ]
    }
   ],
   "source": [
    "order = 7\n",
    "m = MarkovModel(text, order)\n",
    "seed = text[:order]\n",
    "print(seed + m.gen(seed, 1000))"
   ]
  },
  {
   "cell_type": "markdown",
   "metadata": {},
   "source": [
    "---"
   ]
  },
  {
   "cell_type": "code",
   "execution_count": 8,
   "metadata": {},
   "outputs": [
    {
     "data": {
      "text/plain": [
       "'it was the best of times, it was the worst of times.'"
      ]
     },
     "execution_count": 8,
     "metadata": {},
     "output_type": "execute_result"
    }
   ],
   "source": [
    "m = MarkovModel(\"it was the best of times, it was the worst of times.\", 4)\n",
    "m.replace_unknown(\"it w~s th~ bes~ of tim~s, i~ was ~he wo~st of~times.\")"
   ]
  },
  {
   "cell_type": "code",
   "execution_count": null,
   "metadata": {
    "collapsed": true
   },
   "outputs": [],
   "source": []
  }
 ],
 "metadata": {
  "kernelspec": {
   "display_name": "Python 3",
   "language": "python",
   "name": "python3"
  },
  "language_info": {
   "codemirror_mode": {
    "name": "ipython",
    "version": 3
   },
   "file_extension": ".py",
   "mimetype": "text/x-python",
   "name": "python",
   "nbconvert_exporter": "python",
   "pygments_lexer": "ipython3",
   "version": "3.5.3"
  }
 },
 "nbformat": 4,
 "nbformat_minor": 2
}
